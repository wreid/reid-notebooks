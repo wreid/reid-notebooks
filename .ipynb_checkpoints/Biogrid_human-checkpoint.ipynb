{
 "metadata": {
  "name": "",
  "signature": "sha256:89d6a5ac7c076422dd17988978c8d2e9ad18dbf379723176bd159c18d9fd498f"
 },
 "nbformat": 3,
 "nbformat_minor": 0,
 "worksheets": [
  {
   "cells": [
    {
     "cell_type": "code",
     "collapsed": false,
     "input": [
      "import networkx as nx\n",
      "G=nx.Graph()"
     ],
     "language": "python",
     "metadata": {},
     "outputs": [],
     "prompt_number": 2
    },
    {
     "cell_type": "code",
     "collapsed": false,
     "input": [],
     "language": "python",
     "metadata": {},
     "outputs": []
    }
   ],
   "metadata": {}
  }
 ]
}