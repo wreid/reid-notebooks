{
 "metadata": {
  "name": "",
  "signature": "sha256:5763efe0b2896494c6545a1988fb7dcc88dd43dfb19e3f520f53b537e383ab7f"
 },
 "nbformat": 3,
 "nbformat_minor": 0,
 "worksheets": [
  {
   "cells": [
    {
     "cell_type": "code",
     "collapsed": false,
     "input": [
      "import copy\n",
      "import networkx as nx\n",
      "import matplotlib.pyplot as plt\n",
      "import numpy as np\n",
      "from ppi_network import *"
     ],
     "language": "python",
     "metadata": {},
     "outputs": [],
     "prompt_number": 18
    },
    {
     "cell_type": "code",
     "collapsed": false,
     "input": [
      "G = nx.Graph()\n",
      "load_txt('/Users/williamreid/Documents/Jacunski/work/human_out.txt', G)\n",
      "del_dupl(G)\n",
      "mG = largest_component(G)"
     ],
     "language": "python",
     "metadata": {},
     "outputs": [
      {
       "output_type": "stream",
       "stream": "stdout",
       "text": [
        "93 nodes removed\n",
        "43 components removed\n",
        "13308 nodes and 69273 edges in main component\n"
       ]
      },
      {
       "output_type": "stream",
       "stream": "stdout",
       "text": [
        "\n"
       ]
      }
     ],
     "prompt_number": 12
    },
    {
     "cell_type": "code",
     "collapsed": false,
     "input": [
      "d = nx.shortest_path_length(mG)"
     ],
     "language": "python",
     "metadata": {},
     "outputs": [],
     "prompt_number": 13
    },
    {
     "cell_type": "code",
     "collapsed": false,
     "input": [
      "nodes = mG.nodes()"
     ],
     "language": "python",
     "metadata": {},
     "outputs": [],
     "prompt_number": 14
    },
    {
     "cell_type": "code",
     "collapsed": false,
     "input": [
      "ndict = dict()\n",
      "for node in nodes:\n",
      "    ndict[node] = True"
     ],
     "language": "python",
     "metadata": {},
     "outputs": [],
     "prompt_number": 15
    },
    {
     "cell_type": "code",
     "collapsed": false,
     "input": [
      "print d['FLNC']['ARF3']"
     ],
     "language": "python",
     "metadata": {},
     "outputs": [
      {
       "output_type": "stream",
       "stream": "stdout",
       "text": [
        "3\n"
       ]
      }
     ],
     "prompt_number": 16
    },
    {
     "cell_type": "code",
     "collapsed": false,
     "input": [
      "towers = dict()\n",
      "coords = [[] for i in range(len(nodes))]\n",
      "# only 50 towers\n",
      "x = [i+1 for i in range(50)]\n",
      "#x = [i for i in range(100)]\n",
      "y = []\n",
      "#for i in range(100):\n",
      "for i in range(50):\n",
      "    # print \"Starting node %d...\" % i\n",
      "    maxset = 0\n",
      "    # iterate over dictionary of nodes\n",
      "    for n, g1 in enumerate(ndict):\n",
      "        # copy coords to temp coords, used deepcopy() to avoid iteration\n",
      "        temp_coords = copy.deepcopy(coords)\n",
      "        #temp_coords = [a for a in coords]\n",
      "        for m,g2 in enumerate(nodes):\n",
      "            temp_coords[m].append(d[g1][g2])\n",
      "        # eliminates all redundant coordinates with set()\n",
      "        coord_set = list(set([tuple(a) for a in temp_coords]))\n",
      "        if len(coord_set) > maxset:\n",
      "            towergene = g1\n",
      "            set_size = len(coord_set)\n",
      "            new_coords = [ a for a in temp_coords]\n",
      "            maxset = set_size\n",
      "    # finalizes coords\n",
      "    coords = copy.deepcopy(new_coords)\n",
      "    # adds tower to dict\n",
      "    towers[towergene] = True\n",
      "    # removes towergene from node dict\n",
      "    ndict.pop(towergene,None)\n",
      "    y.append(set_size)"
     ],
     "language": "python",
     "metadata": {},
     "outputs": []
    },
    {
     "cell_type": "code",
     "collapsed": false,
     "input": [
      "print towers"
     ],
     "language": "python",
     "metadata": {},
     "outputs": []
    }
   ],
   "metadata": {}
  }
 ]
}